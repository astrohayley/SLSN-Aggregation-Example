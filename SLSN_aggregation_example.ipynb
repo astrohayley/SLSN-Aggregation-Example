{
 "cells": [
  {
   "cell_type": "markdown",
   "metadata": {},
   "source": [
    "# Batch Aggregation for SLSN"
   ]
  },
  {
   "cell_type": "code",
   "execution_count": 1,
   "metadata": {},
   "outputs": [
    {
     "name": "stdout",
     "output_type": "stream",
     "text": [
      "Intel MKL WARNING: Support of Intel(R) Streaming SIMD Extensions 4.2 (Intel(R) SSE4.2) enabled only processors has been deprecated. Intel oneAPI Math Kernel Library 2025.0 will require Intel(R) Advanced Vector Extensions (Intel(R) AVX) instructions.\n",
      "Intel MKL WARNING: Support of Intel(R) Streaming SIMD Extensions 4.2 (Intel(R) SSE4.2) enabled only processors has been deprecated. Intel oneAPI Math Kernel Library 2025.0 will require Intel(R) Advanced Vector Extensions (Intel(R) AVX) instructions.\n"
     ]
    },
    {
     "name": "stderr",
     "output_type": "stream",
     "text": [
      "WARNING:panoptes_client:Broken libmagic installation detected. The python-magic module is installed but can't be imported. Please check that both python-magic and the libmagic shared library are installed correctly. Uploading media other than images may not work.\n"
     ]
    }
   ],
   "source": [
    "import numpy as np\n",
    "import scipy\n",
    "import matplotlib.pyplot as plt\n",
    "import pandas as pd\n",
    "\n",
    "import SLSN_batch_aggregation\n",
    "\n",
    "WORKFLOW_ID_SLSN = 13193"
   ]
  },
  {
   "cell_type": "markdown",
   "metadata": {},
   "source": [
    "Download the raw classifications and subjects from Dropbox if you don't have them already:"
   ]
  },
  {
   "cell_type": "code",
   "execution_count": 2,
   "metadata": {},
   "outputs": [],
   "source": [
    "!wget https://www.dropbox.com/scl/fi/t9kcfsrcix3mpj0u3lyqs/superluminous-supernovae-classifications.csv?rlkey=n0hgnnhxeapa0vfhie30hti4s&dl=0\n",
    "!wget https://www.dropbox.com/scl/fi/l9c85k2qirvo7yvkw0uxr/superluminous-supernovae-subjects.csv?rlkey=8c1ii7d9rig287zvxe7m9wrca&dl=0"
   ]
  },
  {
   "cell_type": "markdown",
   "metadata": {},
   "source": [
    "Loading in SLSN subjects:"
   ]
  },
  {
   "cell_type": "code",
   "execution_count": 3,
   "metadata": {},
   "outputs": [],
   "source": [
    "subjects = pd.read_csv('superluminous-supernovae-subjects.csv')\n",
    "subjects = subjects[subjects.workflow_id==WORKFLOW_ID_SLSN]"
   ]
  },
  {
   "cell_type": "markdown",
   "metadata": {},
   "source": [
    "Using the `batch_aggregation` function, create a DataFrame of our aggregated data:"
   ]
  },
  {
   "cell_type": "code",
   "execution_count": 4,
   "metadata": {},
   "outputs": [
    {
     "name": "stdout",
     "output_type": "stream",
     "text": [
      "Loading classifications\n",
      "Extracting annotations\n",
      "Aggregating data\n"
     ]
    }
   ],
   "source": [
    "data = SLSN_batch_aggregation.batch_aggregation(generate_new_classifications=False)"
   ]
  },
  {
   "cell_type": "code",
   "execution_count": 5,
   "metadata": {},
   "outputs": [],
   "source": [
    "classification_data = pd.read_csv('superluminous-supernovae-classifications.csv')"
   ]
  },
  {
   "cell_type": "code",
   "execution_count": 6,
   "metadata": {},
   "outputs": [],
   "source": [
    "data = data.merge(subjects, on='subject_id')"
   ]
  },
  {
   "cell_type": "markdown",
   "metadata": {},
   "source": [
    "The SLSN workflow has two questions, so our data can be separated out by those:"
   ]
  },
  {
   "cell_type": "code",
   "execution_count": 7,
   "metadata": {},
   "outputs": [],
   "source": [
    "q1_aggregated = data[data.task=='T0'].copy()\n",
    "q1_aggregated.sort_values('agreement', ascending=False, inplace=True)\n",
    "\n",
    "q2_aggregated = data[data.task=='T1'].copy()\n",
    "q2_aggregated.sort_values('agreement', ascending=False, inplace=True)"
   ]
  },
  {
   "cell_type": "markdown",
   "metadata": {},
   "source": [
    "Then, showing the subjects that have the highest likelihood of being a SLSN:"
   ]
  },
  {
   "cell_type": "code",
   "execution_count": 8,
   "metadata": {},
   "outputs": [],
   "source": [
    "candidates = q1_aggregated[(q1_aggregated.most_likely=='yes')].copy() # (q1_aggregated.agreement>=0.7) \n",
    "# if you wanted to add a cutoff, add the commented line to the mask\n",
    "\n",
    "candidates['index'] = candidates['subject_id']\n",
    "candidates.set_index('index', inplace=True)"
   ]
  },
  {
   "cell_type": "code",
   "execution_count": 9,
   "metadata": {},
   "outputs": [],
   "source": [
    "urls = []\n",
    "for i in range(len(candidates)):\n",
    "    urls.append('<a href=https://zooniverse.github.io/slsn-data/subjects/'+str(candidates.subject_id.iloc[i])+'><div>'+str(candidates.subject_id.iloc[i])+'</div></a>')\n",
    "\n",
    "candidates['subject_page_url'] = urls"
   ]
  },
  {
   "cell_type": "markdown",
   "metadata": {},
   "source": [
    "Below is an exported HTML table that is more practical than it is nice to look at, but it includes links to the subject pages previously built by Zooniverse. I have these currently in order of descending agreement percentage, but this can be updated to whatever is most helpful."
   ]
  },
  {
   "cell_type": "code",
   "execution_count": 10,
   "metadata": {},
   "outputs": [],
   "source": [
    "candidates.to_html('candidates.html', escape=False, index=False,\n",
    "                    columns=['subject_id', 'subject_page_url', 'task', 'num_votes', 'agreement', 'classifications_count', 'retirement_reason'])"
   ]
  },
  {
   "cell_type": "markdown",
   "metadata": {},
   "source": [
    "You can see an example of this on the GitHub page: [https://htmlpreview.github.io/?https://github.com/astrohayley/SLSN-Aggregation-Example/blob/main/candidates.html](https://htmlpreview.github.io/?https://github.com/astrohayley/SLSN-Aggregation-Example/blob/main/candidates.html)"
   ]
  },
  {
   "cell_type": "markdown",
   "metadata": {},
   "source": [
    "Here's also how you can interact with this table if you open it in your own Jupyter Notebook. The commented cell below enables the interactive module, so uncomment and run it if you're in your own notebook."
   ]
  },
  {
   "cell_type": "code",
   "execution_count": 11,
   "metadata": {},
   "outputs": [],
   "source": [
    "# from itables import init_notebook_mode\n",
    "# init_notebook_mode(all_interactive=True)"
   ]
  },
  {
   "cell_type": "code",
   "execution_count": 12,
   "metadata": {},
   "outputs": [
    {
     "data": {
      "text/html": [
       "<div>\n",
       "<style scoped>\n",
       "    .dataframe tbody tr th:only-of-type {\n",
       "        vertical-align: middle;\n",
       "    }\n",
       "\n",
       "    .dataframe tbody tr th {\n",
       "        vertical-align: top;\n",
       "    }\n",
       "\n",
       "    .dataframe thead th {\n",
       "        text-align: right;\n",
       "    }\n",
       "</style>\n",
       "<table border=\"1\" class=\"dataframe\">\n",
       "  <thead>\n",
       "    <tr style=\"text-align: right;\">\n",
       "      <th></th>\n",
       "      <th>subject_id</th>\n",
       "      <th>subject_page_url</th>\n",
       "      <th>task</th>\n",
       "      <th>num_votes</th>\n",
       "      <th>agreement</th>\n",
       "      <th>classifications_count</th>\n",
       "      <th>retirement_reason</th>\n",
       "    </tr>\n",
       "    <tr>\n",
       "      <th>index</th>\n",
       "      <th></th>\n",
       "      <th></th>\n",
       "      <th></th>\n",
       "      <th></th>\n",
       "      <th></th>\n",
       "      <th></th>\n",
       "      <th></th>\n",
       "    </tr>\n",
       "  </thead>\n",
       "  <tbody>\n",
       "    <tr>\n",
       "      <th>91002190</th>\n",
       "      <td>91002190</td>\n",
       "      <td>&lt;a href=https://zooniverse.github.io/slsn-data...</td>\n",
       "      <td>T0</td>\n",
       "      <td>10</td>\n",
       "      <td>1.0</td>\n",
       "      <td>10</td>\n",
       "      <td>classification_count</td>\n",
       "    </tr>\n",
       "    <tr>\n",
       "      <th>84504566</th>\n",
       "      <td>84504566</td>\n",
       "      <td>&lt;a href=https://zooniverse.github.io/slsn-data...</td>\n",
       "      <td>T0</td>\n",
       "      <td>10</td>\n",
       "      <td>1.0</td>\n",
       "      <td>10</td>\n",
       "      <td>classification_count</td>\n",
       "    </tr>\n",
       "    <tr>\n",
       "      <th>91041605</th>\n",
       "      <td>91041605</td>\n",
       "      <td>&lt;a href=https://zooniverse.github.io/slsn-data...</td>\n",
       "      <td>T0</td>\n",
       "      <td>10</td>\n",
       "      <td>1.0</td>\n",
       "      <td>10</td>\n",
       "      <td>classification_count</td>\n",
       "    </tr>\n",
       "    <tr>\n",
       "      <th>91041523</th>\n",
       "      <td>91041523</td>\n",
       "      <td>&lt;a href=https://zooniverse.github.io/slsn-data...</td>\n",
       "      <td>T0</td>\n",
       "      <td>10</td>\n",
       "      <td>1.0</td>\n",
       "      <td>10</td>\n",
       "      <td>classification_count</td>\n",
       "    </tr>\n",
       "    <tr>\n",
       "      <th>91041525</th>\n",
       "      <td>91041525</td>\n",
       "      <td>&lt;a href=https://zooniverse.github.io/slsn-data...</td>\n",
       "      <td>T0</td>\n",
       "      <td>10</td>\n",
       "      <td>1.0</td>\n",
       "      <td>10</td>\n",
       "      <td>classification_count</td>\n",
       "    </tr>\n",
       "  </tbody>\n",
       "</table>\n",
       "</div>"
      ],
      "text/plain": [
       "          subject_id                                   subject_page_url task  \\\n",
       "index                                                                          \n",
       "91002190    91002190  <a href=https://zooniverse.github.io/slsn-data...   T0   \n",
       "84504566    84504566  <a href=https://zooniverse.github.io/slsn-data...   T0   \n",
       "91041605    91041605  <a href=https://zooniverse.github.io/slsn-data...   T0   \n",
       "91041523    91041523  <a href=https://zooniverse.github.io/slsn-data...   T0   \n",
       "91041525    91041525  <a href=https://zooniverse.github.io/slsn-data...   T0   \n",
       "\n",
       "          num_votes  agreement  classifications_count     retirement_reason  \n",
       "index                                                                        \n",
       "91002190         10        1.0                     10  classification_count  \n",
       "84504566         10        1.0                     10  classification_count  \n",
       "91041605         10        1.0                     10  classification_count  \n",
       "91041523         10        1.0                     10  classification_count  \n",
       "91041525         10        1.0                     10  classification_count  "
      ]
     },
     "execution_count": 12,
     "metadata": {},
     "output_type": "execute_result"
    }
   ],
   "source": [
    "candidates[['subject_id', 'subject_page_url', 'task', 'num_votes', 'agreement', 'classifications_count', 'retirement_reason']].head()"
   ]
  },
  {
   "cell_type": "code",
   "execution_count": null,
   "metadata": {},
   "outputs": [],
   "source": []
  }
 ],
 "metadata": {
  "kernelspec": {
   "display_name": "zooniverse_notebooks",
   "language": "python",
   "name": "python3"
  },
  "language_info": {
   "codemirror_mode": {
    "name": "ipython",
    "version": 3
   },
   "file_extension": ".py",
   "mimetype": "text/x-python",
   "name": "python",
   "nbconvert_exporter": "python",
   "pygments_lexer": "ipython3",
   "version": "3.9.18"
  }
 },
 "nbformat": 4,
 "nbformat_minor": 2
}
