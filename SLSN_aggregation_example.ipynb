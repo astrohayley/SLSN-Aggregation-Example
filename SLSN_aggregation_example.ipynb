{
 "cells": [
  {
   "cell_type": "markdown",
   "metadata": {},
   "source": [
    "# Batch Aggregation for SLSN"
   ]
  },
  {
   "cell_type": "code",
   "execution_count": 1,
   "metadata": {},
   "outputs": [
    {
     "name": "stdout",
     "output_type": "stream",
     "text": [
      "Intel MKL WARNING: Support of Intel(R) Streaming SIMD Extensions 4.2 (Intel(R) SSE4.2) enabled only processors has been deprecated. Intel oneAPI Math Kernel Library 2025.0 will require Intel(R) Advanced Vector Extensions (Intel(R) AVX) instructions.\n",
      "Intel MKL WARNING: Support of Intel(R) Streaming SIMD Extensions 4.2 (Intel(R) SSE4.2) enabled only processors has been deprecated. Intel oneAPI Math Kernel Library 2025.0 will require Intel(R) Advanced Vector Extensions (Intel(R) AVX) instructions.\n"
     ]
    },
    {
     "name": "stderr",
     "output_type": "stream",
     "text": [
      "WARNING:panoptes_client:Broken libmagic installation detected. The python-magic module is installed but can't be imported. Please check that both python-magic and the libmagic shared library are installed correctly. Uploading media other than images may not work.\n"
     ]
    }
   ],
   "source": [
    "import numpy as np\n",
    "import scipy\n",
    "import matplotlib.pyplot as plt\n",
    "import pandas as pd\n",
    "\n",
    "import SLSN_batch_aggregation\n",
    "\n",
    "WORKFLOW_ID_SLSN = 13193"
   ]
  },
  {
   "cell_type": "markdown",
   "metadata": {},
   "source": [
    "Download the raw classifications and subjects from Dropbox if you don't have them already:"
   ]
  },
  {
   "cell_type": "code",
   "execution_count": null,
   "metadata": {},
   "outputs": [],
   "source": [
    "!wget https://www.dropbox.com/scl/fi/t9kcfsrcix3mpj0u3lyqs/superluminous-supernovae-classifications.csv?rlkey=n0hgnnhxeapa0vfhie30hti4s&dl=0\n",
    "!wget https://www.dropbox.com/scl/fi/l9c85k2qirvo7yvkw0uxr/superluminous-supernovae-subjects.csv?rlkey=8c1ii7d9rig287zvxe7m9wrca&dl=0"
   ]
  },
  {
   "cell_type": "markdown",
   "metadata": {},
   "source": [
    "Using the `batch_aggregation` function, create a DataFrame of our aggregated data:"
   ]
  },
  {
   "cell_type": "code",
   "execution_count": 2,
   "metadata": {},
   "outputs": [
    {
     "name": "stdout",
     "output_type": "stream",
     "text": [
      "Loading classifications\n",
      "Extracting annotations\n",
      "Aggregating data\n"
     ]
    }
   ],
   "source": [
    "data = SLSN_batch_aggregation.batch_aggregation(generate_new_classifications=False)"
   ]
  },
  {
   "cell_type": "markdown",
   "metadata": {},
   "source": [
    "Looking further at the data, we can load in the SLSN subjects and merge that information with our aggregated data:"
   ]
  },
  {
   "cell_type": "code",
   "execution_count": 3,
   "metadata": {},
   "outputs": [],
   "source": [
    "subjects = pd.read_csv('superluminous-supernovae-subjects.csv')\n",
    "subjects = subjects[subjects.workflow_id==WORKFLOW_ID_SLSN]"
   ]
  },
  {
   "cell_type": "code",
   "execution_count": 4,
   "metadata": {},
   "outputs": [],
   "source": [
    "data = data.merge(subjects, on='subject_id')"
   ]
  },
  {
   "cell_type": "markdown",
   "metadata": {},
   "source": [
    "The SLSN workflow has two questions, so our data can be separated out by those:"
   ]
  },
  {
   "cell_type": "code",
   "execution_count": 10,
   "metadata": {},
   "outputs": [],
   "source": [
    "q1_aggregated = data[data.task=='T0'].copy()\n",
    "q1_aggregated.sort_values('agreement', ascending=False, inplace=True)\n",
    "\n",
    "q2_aggregated = data[data.task=='T1'].copy()\n",
    "q2_aggregated.sort_values('agreement', ascending=False, inplace=True)"
   ]
  },
  {
   "cell_type": "markdown",
   "metadata": {},
   "source": [
    "Then, showing the subjects that have the highest likelihood of being a SLSN:"
   ]
  },
  {
   "cell_type": "code",
   "execution_count": 14,
   "metadata": {},
   "outputs": [],
   "source": [
    "cutoff = 0.7 # 70% agreement required\n",
    "\n",
    "candidates = q1_aggregated[(q1_aggregated.agreement>=cutoff) & (q1_aggregated.most_likely=='yes')].copy()"
   ]
  },
  {
   "cell_type": "markdown",
   "metadata": {},
   "source": [
    "Showing 10 of these candidates:"
   ]
  },
  {
   "cell_type": "code",
   "execution_count": 15,
   "metadata": {},
   "outputs": [
    {
     "data": {
      "text/html": [
       "<div>\n",
       "<style scoped>\n",
       "    .dataframe tbody tr th:only-of-type {\n",
       "        vertical-align: middle;\n",
       "    }\n",
       "\n",
       "    .dataframe tbody tr th {\n",
       "        vertical-align: top;\n",
       "    }\n",
       "\n",
       "    .dataframe thead th {\n",
       "        text-align: right;\n",
       "    }\n",
       "</style>\n",
       "<table border=\"1\" class=\"dataframe\">\n",
       "  <thead>\n",
       "    <tr style=\"text-align: right;\">\n",
       "      <th></th>\n",
       "      <th>most_likely</th>\n",
       "      <th>num_votes</th>\n",
       "      <th>agreement</th>\n",
       "      <th>aggregation_version</th>\n",
       "      <th>subject_id</th>\n",
       "      <th>task</th>\n",
       "      <th>project_id</th>\n",
       "      <th>workflow_id</th>\n",
       "      <th>subject_set_id</th>\n",
       "      <th>metadata</th>\n",
       "      <th>locations</th>\n",
       "      <th>classifications_count</th>\n",
       "      <th>retired_at</th>\n",
       "      <th>retirement_reason</th>\n",
       "      <th>created_at</th>\n",
       "      <th>updated_at</th>\n",
       "    </tr>\n",
       "  </thead>\n",
       "  <tbody>\n",
       "    <tr>\n",
       "      <th>7939</th>\n",
       "      <td>yes</td>\n",
       "      <td>10</td>\n",
       "      <td>1.0</td>\n",
       "      <td>4.1.0</td>\n",
       "      <td>91002190</td>\n",
       "      <td>T0</td>\n",
       "      <td>10996</td>\n",
       "      <td>13193.0</td>\n",
       "      <td>114792</td>\n",
       "      <td>{\"ramean\":304.34525551538457,\"ZTF_URL\":\"https:...</td>\n",
       "      <td>{\"0\":\"https://panoptes-uploads.zooniverse.org/...</td>\n",
       "      <td>10</td>\n",
       "      <td>2023-08-01 02:55:46 UTC</td>\n",
       "      <td>classification_count</td>\n",
       "      <td>2023-07-26 13:24:42 UTC</td>\n",
       "      <td>2023-07-26 13:24:42 UTC</td>\n",
       "    </tr>\n",
       "    <tr>\n",
       "      <th>3026</th>\n",
       "      <td>yes</td>\n",
       "      <td>10</td>\n",
       "      <td>1.0</td>\n",
       "      <td>4.1.0</td>\n",
       "      <td>84504566</td>\n",
       "      <td>T0</td>\n",
       "      <td>10996</td>\n",
       "      <td>13193.0</td>\n",
       "      <td>111220</td>\n",
       "      <td>{\"ramean\":104.73434774285712,\"decmean\":39.6352...</td>\n",
       "      <td>{\"0\":\"https://panoptes-uploads.zooniverse.org/...</td>\n",
       "      <td>10</td>\n",
       "      <td>2023-06-23 08:37:19 UTC</td>\n",
       "      <td>classification_count</td>\n",
       "      <td>2023-01-27 12:11:29 UTC</td>\n",
       "      <td>2023-01-27 12:11:29 UTC</td>\n",
       "    </tr>\n",
       "    <tr>\n",
       "      <th>8296</th>\n",
       "      <td>yes</td>\n",
       "      <td>10</td>\n",
       "      <td>1.0</td>\n",
       "      <td>4.1.0</td>\n",
       "      <td>91041605</td>\n",
       "      <td>T0</td>\n",
       "      <td>10996</td>\n",
       "      <td>13193.0</td>\n",
       "      <td>114872</td>\n",
       "      <td>{\"ramean\":324.3664891631579,\"ZTF_URL\":\"https:/...</td>\n",
       "      <td>{\"0\":\"https://panoptes-uploads.zooniverse.org/...</td>\n",
       "      <td>10</td>\n",
       "      <td>2023-08-14 19:27:53 UTC</td>\n",
       "      <td>classification_count</td>\n",
       "      <td>2023-08-02 09:53:15 UTC</td>\n",
       "      <td>2023-08-02 09:53:15 UTC</td>\n",
       "    </tr>\n",
       "    <tr>\n",
       "      <th>8150</th>\n",
       "      <td>yes</td>\n",
       "      <td>10</td>\n",
       "      <td>1.0</td>\n",
       "      <td>4.1.0</td>\n",
       "      <td>91041523</td>\n",
       "      <td>T0</td>\n",
       "      <td>10996</td>\n",
       "      <td>13193.0</td>\n",
       "      <td>114872</td>\n",
       "      <td>{\"ramean\":312.4994818590909,\"ZTF_URL\":\"https:/...</td>\n",
       "      <td>{\"0\":\"https://panoptes-uploads.zooniverse.org/...</td>\n",
       "      <td>10</td>\n",
       "      <td>2023-08-18 01:53:04 UTC</td>\n",
       "      <td>classification_count</td>\n",
       "      <td>2023-08-02 09:52:42 UTC</td>\n",
       "      <td>2023-08-02 09:52:42 UTC</td>\n",
       "    </tr>\n",
       "    <tr>\n",
       "      <th>8154</th>\n",
       "      <td>yes</td>\n",
       "      <td>10</td>\n",
       "      <td>1.0</td>\n",
       "      <td>4.1.0</td>\n",
       "      <td>91041525</td>\n",
       "      <td>T0</td>\n",
       "      <td>10996</td>\n",
       "      <td>13193.0</td>\n",
       "      <td>114872</td>\n",
       "      <td>{\"ramean\":325.2463173,\"ZTF_URL\":\"https://lasai...</td>\n",
       "      <td>{\"0\":\"https://panoptes-uploads.zooniverse.org/...</td>\n",
       "      <td>10</td>\n",
       "      <td>2023-08-18 15:59:15 UTC</td>\n",
       "      <td>classification_count</td>\n",
       "      <td>2023-08-02 09:52:43 UTC</td>\n",
       "      <td>2023-08-02 09:52:43 UTC</td>\n",
       "    </tr>\n",
       "    <tr>\n",
       "      <th>7925</th>\n",
       "      <td>yes</td>\n",
       "      <td>10</td>\n",
       "      <td>1.0</td>\n",
       "      <td>4.1.0</td>\n",
       "      <td>91002182</td>\n",
       "      <td>T0</td>\n",
       "      <td>10996</td>\n",
       "      <td>13193.0</td>\n",
       "      <td>114792</td>\n",
       "      <td>{\"ramean\":325.2463170454545,\"ZTF_URL\":\"https:/...</td>\n",
       "      <td>{\"0\":\"https://panoptes-uploads.zooniverse.org/...</td>\n",
       "      <td>10</td>\n",
       "      <td>2023-08-01 18:21:12 UTC</td>\n",
       "      <td>classification_count</td>\n",
       "      <td>2023-07-26 13:24:39 UTC</td>\n",
       "      <td>2023-07-26 13:24:39 UTC</td>\n",
       "    </tr>\n",
       "    <tr>\n",
       "      <th>7382</th>\n",
       "      <td>yes</td>\n",
       "      <td>10</td>\n",
       "      <td>1.0</td>\n",
       "      <td>4.1.0</td>\n",
       "      <td>90354208</td>\n",
       "      <td>T0</td>\n",
       "      <td>10996</td>\n",
       "      <td>13193.0</td>\n",
       "      <td>114283</td>\n",
       "      <td>{\"ramean\":232.76545499090915,\"ZTF_URL\":\"https:...</td>\n",
       "      <td>{\"0\":\"https://panoptes-uploads.zooniverse.org/...</td>\n",
       "      <td>10</td>\n",
       "      <td>2023-07-06 19:31:55 UTC</td>\n",
       "      <td>classification_count</td>\n",
       "      <td>2023-06-28 10:01:09 UTC</td>\n",
       "      <td>2023-06-28 10:01:09 UTC</td>\n",
       "    </tr>\n",
       "    <tr>\n",
       "      <th>7740</th>\n",
       "      <td>yes</td>\n",
       "      <td>10</td>\n",
       "      <td>1.0</td>\n",
       "      <td>4.1.0</td>\n",
       "      <td>91002083</td>\n",
       "      <td>T0</td>\n",
       "      <td>10996</td>\n",
       "      <td>13193.0</td>\n",
       "      <td>114792</td>\n",
       "      <td>{\"ramean\":307.05751547407414,\"ZTF_URL\":\"https:...</td>\n",
       "      <td>{\"0\":\"https://panoptes-uploads.zooniverse.org/...</td>\n",
       "      <td>10</td>\n",
       "      <td>2023-08-01 16:34:49 UTC</td>\n",
       "      <td>classification_count</td>\n",
       "      <td>2023-07-26 13:23:58 UTC</td>\n",
       "      <td>2023-07-26 13:23:58 UTC</td>\n",
       "    </tr>\n",
       "    <tr>\n",
       "      <th>7855</th>\n",
       "      <td>yes</td>\n",
       "      <td>10</td>\n",
       "      <td>1.0</td>\n",
       "      <td>4.1.0</td>\n",
       "      <td>91002145</td>\n",
       "      <td>T0</td>\n",
       "      <td>10996</td>\n",
       "      <td>13193.0</td>\n",
       "      <td>114792</td>\n",
       "      <td>{\"ramean\":232.76544904210527,\"ZTF_URL\":\"https:...</td>\n",
       "      <td>{\"0\":\"https://panoptes-uploads.zooniverse.org/...</td>\n",
       "      <td>10</td>\n",
       "      <td>2023-08-01 11:32:12 UTC</td>\n",
       "      <td>classification_count</td>\n",
       "      <td>2023-07-26 13:24:23 UTC</td>\n",
       "      <td>2023-07-26 13:24:23 UTC</td>\n",
       "    </tr>\n",
       "    <tr>\n",
       "      <th>7875</th>\n",
       "      <td>yes</td>\n",
       "      <td>10</td>\n",
       "      <td>1.0</td>\n",
       "      <td>4.1.0</td>\n",
       "      <td>91002156</td>\n",
       "      <td>T0</td>\n",
       "      <td>10996</td>\n",
       "      <td>13193.0</td>\n",
       "      <td>114792</td>\n",
       "      <td>{\"ramean\":312.49948451904766,\"ZTF_URL\":\"https:...</td>\n",
       "      <td>{\"0\":\"https://panoptes-uploads.zooniverse.org/...</td>\n",
       "      <td>10</td>\n",
       "      <td>2023-08-01 16:39:03 UTC</td>\n",
       "      <td>classification_count</td>\n",
       "      <td>2023-07-26 13:24:28 UTC</td>\n",
       "      <td>2023-07-26 13:24:28 UTC</td>\n",
       "    </tr>\n",
       "  </tbody>\n",
       "</table>\n",
       "</div>"
      ],
      "text/plain": [
       "     most_likely  num_votes  agreement aggregation_version  subject_id task  \\\n",
       "7939         yes         10        1.0               4.1.0    91002190   T0   \n",
       "3026         yes         10        1.0               4.1.0    84504566   T0   \n",
       "8296         yes         10        1.0               4.1.0    91041605   T0   \n",
       "8150         yes         10        1.0               4.1.0    91041523   T0   \n",
       "8154         yes         10        1.0               4.1.0    91041525   T0   \n",
       "7925         yes         10        1.0               4.1.0    91002182   T0   \n",
       "7382         yes         10        1.0               4.1.0    90354208   T0   \n",
       "7740         yes         10        1.0               4.1.0    91002083   T0   \n",
       "7855         yes         10        1.0               4.1.0    91002145   T0   \n",
       "7875         yes         10        1.0               4.1.0    91002156   T0   \n",
       "\n",
       "      project_id  workflow_id  subject_set_id  \\\n",
       "7939       10996      13193.0          114792   \n",
       "3026       10996      13193.0          111220   \n",
       "8296       10996      13193.0          114872   \n",
       "8150       10996      13193.0          114872   \n",
       "8154       10996      13193.0          114872   \n",
       "7925       10996      13193.0          114792   \n",
       "7382       10996      13193.0          114283   \n",
       "7740       10996      13193.0          114792   \n",
       "7855       10996      13193.0          114792   \n",
       "7875       10996      13193.0          114792   \n",
       "\n",
       "                                               metadata  \\\n",
       "7939  {\"ramean\":304.34525551538457,\"ZTF_URL\":\"https:...   \n",
       "3026  {\"ramean\":104.73434774285712,\"decmean\":39.6352...   \n",
       "8296  {\"ramean\":324.3664891631579,\"ZTF_URL\":\"https:/...   \n",
       "8150  {\"ramean\":312.4994818590909,\"ZTF_URL\":\"https:/...   \n",
       "8154  {\"ramean\":325.2463173,\"ZTF_URL\":\"https://lasai...   \n",
       "7925  {\"ramean\":325.2463170454545,\"ZTF_URL\":\"https:/...   \n",
       "7382  {\"ramean\":232.76545499090915,\"ZTF_URL\":\"https:...   \n",
       "7740  {\"ramean\":307.05751547407414,\"ZTF_URL\":\"https:...   \n",
       "7855  {\"ramean\":232.76544904210527,\"ZTF_URL\":\"https:...   \n",
       "7875  {\"ramean\":312.49948451904766,\"ZTF_URL\":\"https:...   \n",
       "\n",
       "                                              locations  \\\n",
       "7939  {\"0\":\"https://panoptes-uploads.zooniverse.org/...   \n",
       "3026  {\"0\":\"https://panoptes-uploads.zooniverse.org/...   \n",
       "8296  {\"0\":\"https://panoptes-uploads.zooniverse.org/...   \n",
       "8150  {\"0\":\"https://panoptes-uploads.zooniverse.org/...   \n",
       "8154  {\"0\":\"https://panoptes-uploads.zooniverse.org/...   \n",
       "7925  {\"0\":\"https://panoptes-uploads.zooniverse.org/...   \n",
       "7382  {\"0\":\"https://panoptes-uploads.zooniverse.org/...   \n",
       "7740  {\"0\":\"https://panoptes-uploads.zooniverse.org/...   \n",
       "7855  {\"0\":\"https://panoptes-uploads.zooniverse.org/...   \n",
       "7875  {\"0\":\"https://panoptes-uploads.zooniverse.org/...   \n",
       "\n",
       "      classifications_count               retired_at     retirement_reason  \\\n",
       "7939                     10  2023-08-01 02:55:46 UTC  classification_count   \n",
       "3026                     10  2023-06-23 08:37:19 UTC  classification_count   \n",
       "8296                     10  2023-08-14 19:27:53 UTC  classification_count   \n",
       "8150                     10  2023-08-18 01:53:04 UTC  classification_count   \n",
       "8154                     10  2023-08-18 15:59:15 UTC  classification_count   \n",
       "7925                     10  2023-08-01 18:21:12 UTC  classification_count   \n",
       "7382                     10  2023-07-06 19:31:55 UTC  classification_count   \n",
       "7740                     10  2023-08-01 16:34:49 UTC  classification_count   \n",
       "7855                     10  2023-08-01 11:32:12 UTC  classification_count   \n",
       "7875                     10  2023-08-01 16:39:03 UTC  classification_count   \n",
       "\n",
       "                   created_at               updated_at  \n",
       "7939  2023-07-26 13:24:42 UTC  2023-07-26 13:24:42 UTC  \n",
       "3026  2023-01-27 12:11:29 UTC  2023-01-27 12:11:29 UTC  \n",
       "8296  2023-08-02 09:53:15 UTC  2023-08-02 09:53:15 UTC  \n",
       "8150  2023-08-02 09:52:42 UTC  2023-08-02 09:52:42 UTC  \n",
       "8154  2023-08-02 09:52:43 UTC  2023-08-02 09:52:43 UTC  \n",
       "7925  2023-07-26 13:24:39 UTC  2023-07-26 13:24:39 UTC  \n",
       "7382  2023-06-28 10:01:09 UTC  2023-06-28 10:01:09 UTC  \n",
       "7740  2023-07-26 13:23:58 UTC  2023-07-26 13:23:58 UTC  \n",
       "7855  2023-07-26 13:24:23 UTC  2023-07-26 13:24:23 UTC  \n",
       "7875  2023-07-26 13:24:28 UTC  2023-07-26 13:24:28 UTC  "
      ]
     },
     "execution_count": 15,
     "metadata": {},
     "output_type": "execute_result"
    }
   ],
   "source": [
    "candidates.head(10)"
   ]
  },
  {
   "cell_type": "code",
   "execution_count": null,
   "metadata": {},
   "outputs": [],
   "source": []
  }
 ],
 "metadata": {
  "kernelspec": {
   "display_name": "zooniverse_notebooks",
   "language": "python",
   "name": "python3"
  },
  "language_info": {
   "codemirror_mode": {
    "name": "ipython",
    "version": 3
   },
   "file_extension": ".py",
   "mimetype": "text/x-python",
   "name": "python",
   "nbconvert_exporter": "python",
   "pygments_lexer": "ipython3",
   "version": "3.9.18"
  }
 },
 "nbformat": 4,
 "nbformat_minor": 2
}
